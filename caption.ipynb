{
 "cells": [
  {
   "cell_type": "code",
   "execution_count": 1,
   "metadata": {},
   "outputs": [
    {
     "name": "stdout",
     "output_type": "stream",
     "text": [
      "MoviePy - Writing audio in C:\\Users\\umang\\AppData\\Local\\Temp\\tmpw4b2frnq\\temp_audio.mp3\n"
     ]
    },
    {
     "name": "stderr",
     "output_type": "stream",
     "text": [
      "                                                                   \r"
     ]
    },
    {
     "name": "stdout",
     "output_type": "stream",
     "text": [
      "MoviePy - Done.\n",
      "Audio extracted successfully: C:\\Users\\umang\\AppData\\Local\\Temp\\tmpw4b2frnq\\temp_audio.mp3\n"
     ]
    },
    {
     "name": "stderr",
     "output_type": "stream",
     "text": [
      "Special tokens have been added in the vocabulary, make sure the associated word embeddings are fine-tuned or trained.\n",
      "Due to a bug fix in https://github.com/huggingface/transformers/pull/28687 transcription using a multilingual Whisper will default to language detection followed by transcription instead of translation to English.This might be a breaking change for your use case. If you want to instead always translate your audio to English, make sure to pass `language='en'`.\n"
     ]
    },
    {
     "name": "stdout",
     "output_type": "stream",
     "text": [
      "End of video\n",
      "Moviepy - Building video C:\\Users\\umang\\AppData\\Local\\Temp\\tmpq9pisk5s\\temp_merged_output.mp4.\n",
      "MoviePy - Writing audio in temp_merged_outputTEMP_MPY_wvf_snd.mp4\n"
     ]
    },
    {
     "name": "stderr",
     "output_type": "stream",
     "text": [
      "                                                                    \r"
     ]
    },
    {
     "name": "stdout",
     "output_type": "stream",
     "text": [
      "MoviePy - Done.\n",
      "Moviepy - Writing video C:\\Users\\umang\\AppData\\Local\\Temp\\tmpq9pisk5s\\temp_merged_output.mp4\n",
      "\n"
     ]
    },
    {
     "name": "stderr",
     "output_type": "stream",
     "text": [
      "                                                              \r"
     ]
    },
    {
     "name": "stdout",
     "output_type": "stream",
     "text": [
      "Moviepy - Done !\n",
      "Moviepy - video ready C:\\Users\\umang\\AppData\\Local\\Temp\\tmpq9pisk5s\\temp_merged_output.mp4\n"
     ]
    },
    {
     "data": {
      "text/plain": [
       "'D:\\\\backend\\\\instagram_vedio_caption_generator\\\\output1.mp4'"
      ]
     },
     "execution_count": 1,
     "metadata": {},
     "output_type": "execute_result"
    }
   ],
   "source": [
    "from moviepy.editor import VideoFileClip, AudioFileClip\n",
    "import torch\n",
    "from transformers import pipeline\n",
    "import cv2\n",
    "import tempfile\n",
    "import os\n",
    "import shutil\n",
    "\n",
    "# Example usage\n",
    "video_input_path = r\"D:\\backend\\instagram_vedio_caption_generator\\test.mp4\"\n",
    "\n",
    "\n",
    "def extract_audio_from_video(input_video_path, output_audio_path):\n",
    "    try:\n",
    "        # Load the video clip\n",
    "        video_clip = VideoFileClip(input_video_path)\n",
    "\n",
    "        # Extract audio from the video\n",
    "        audio_clip = video_clip.audio\n",
    "\n",
    "        # Write the audio to a temporary file\n",
    "        temp_audio_path = os.path.join(tempfile.mkdtemp(), \"temp_audio.mp3\")\n",
    "        audio_clip.write_audiofile(temp_audio_path, codec='mp3')\n",
    "\n",
    "        print(f\"Audio extracted successfully: {temp_audio_path}\")\n",
    "\n",
    "        return temp_audio_path\n",
    "\n",
    "    except Exception as e:\n",
    "        print(f\"Error: {e}\")\n",
    "        return None\n",
    "\n",
    "\n",
    "audio_temp_path = extract_audio_from_video(video_input_path, None)\n",
    "\n",
    "# Set up automatic speech recognition pipeline\n",
    "device = \"cuda:0\" if torch.cuda.is_available() else \"cpu\"\n",
    "asr_pipeline = pipeline(\n",
    "  \"automatic-speech-recognition\",\n",
    "  model='openai/whisper-large-v3',\n",
    "  chunk_length_s=30,\n",
    "  device=device,\n",
    ")\n",
    "\n",
    "# Perform speech recognition on the audio\n",
    "speech_prediction = asr_pipeline(audio_temp_path, batch_size=8, return_timestamps=True)\n",
    "\n",
    "# Function to get caption based on timestamp\n",
    "def get_caption(timestamp, speech_chunks):\n",
    "    for chunk in speech_chunks:\n",
    "        start, end = chunk['timestamp']\n",
    "        if start <= timestamp < end:\n",
    "            return chunk['text']\n",
    "    return ''  # No caption found for the given timestamp\n",
    "\n",
    "output_video_path = os.path.join(tempfile.mkdtemp(), \"temp_output.mp4\")\n",
    "\n",
    "cap = cv2.VideoCapture(video_input_path)\n",
    "\n",
    "if not cap.isOpened():\n",
    "    print(\"Error opening video file\")\n",
    "\n",
    "# Get video properties\n",
    "fps = cap.get(cv2.CAP_PROP_FPS)\n",
    "width = int(cap.get(cv2.CAP_PROP_FRAME_WIDTH))\n",
    "height = int(cap.get(cv2.CAP_PROP_FRAME_HEIGHT))\n",
    "\n",
    "# Define the codec and create VideoWriter object\n",
    "video_codec = cv2.VideoWriter_fourcc(*'mp4v')  # You can change the codec as needed\n",
    "video_writer = cv2.VideoWriter(output_video_path, video_codec, fps, (width, height))\n",
    "\n",
    "while cap.isOpened():\n",
    "    ret, frame = cap.read()\n",
    "\n",
    "    if not ret:\n",
    "        print(\"End of video\")\n",
    "        break\n",
    "\n",
    "    current_timestamp = cap.get(cv2.CAP_PROP_POS_MSEC) / 1000.0\n",
    "    caption = get_caption(current_timestamp, speech_prediction['chunks'])\n",
    "\n",
    "    # Add caption to frame\n",
    "    cv2.putText(frame, caption, (50, 50), cv2.FONT_HERSHEY_SIMPLEX, 1, (255, 255, 255), 2)\n",
    "\n",
    "    # Save the processed frame to the output video file\n",
    "    video_writer.write(frame)\n",
    "\n",
    "# Release video capture and writer objects\n",
    "cap.release()\n",
    "video_writer.release()\n",
    "cv2.destroyAllWindows()\n",
    "\n",
    "# Merge audio and video files\n",
    "def merge_audio_video(audio_path, video_path, output_path):\n",
    "    # Load the video clip\n",
    "    video_clip = VideoFileClip(video_path)\n",
    "\n",
    "    # Load the audio clip\n",
    "    audio_clip = AudioFileClip(audio_path)\n",
    "\n",
    "    # Set the audio of the video clip to the loaded audio clip\n",
    "    video_clip = video_clip.set_audio(audio_clip)\n",
    "\n",
    "    # Write the result to a temporary file\n",
    "    temp_output_path = os.path.join(tempfile.mkdtemp(), \"temp_merged_output.mp4\")\n",
    "    video_clip.write_videofile(temp_output_path, codec=\"libx264\", audio_codec=\"aac\")\n",
    "\n",
    "    return temp_output_path\n",
    "\n",
    "# Example usage\n",
    "final_output_path = r\"D:\\backend\\instagram_vedio_caption_generator\\output1.mp4\"\n",
    "merged_video_temp_path = merge_audio_video(audio_temp_path, output_video_path, final_output_path)\n",
    "\n",
    "# Clean up temporary files\n",
    "os.remove(audio_temp_path)\n",
    "os.remove(output_video_path)\n",
    "\n",
    "shutil.move(merged_video_temp_path, final_output_path)\n",
    "\n"
   ]
  }
 ],
 "metadata": {
  "kernelspec": {
   "display_name": "venv",
   "language": "python",
   "name": "python3"
  },
  "language_info": {
   "codemirror_mode": {
    "name": "ipython",
    "version": 3
   },
   "file_extension": ".py",
   "mimetype": "text/x-python",
   "name": "python",
   "nbconvert_exporter": "python",
   "pygments_lexer": "ipython3",
   "version": "3.10.10"
  }
 },
 "nbformat": 4,
 "nbformat_minor": 2
}
